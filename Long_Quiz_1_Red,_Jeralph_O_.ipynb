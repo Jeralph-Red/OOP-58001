{
  "nbformat": 4,
  "nbformat_minor": 0,
  "metadata": {
    "colab": {
      "name": "Long Quiz 1 - Red, Jeralph O.",
      "provenance": [],
      "authorship_tag": "ABX9TyOP/ZP8BuhkP5PVQ3wQ0E82",
      "include_colab_link": true
    },
    "kernelspec": {
      "name": "python3",
      "display_name": "Python 3"
    },
    "language_info": {
      "name": "python"
    }
  },
  "cells": [
    {
      "cell_type": "markdown",
      "metadata": {
        "id": "view-in-github",
        "colab_type": "text"
      },
      "source": [
        "<a href=\"https://colab.research.google.com/github/Jeralph-Red/OOP-58001/blob/main/Long_Quiz_1_Red%2C_Jeralph_O_.ipynb\" target=\"_parent\"><img src=\"https://colab.research.google.com/assets/colab-badge.svg\" alt=\"Open In Colab\"/></a>"
      ]
    },
    {
      "cell_type": "markdown",
      "source": [
        "#Long Quiz 1 - Red"
      ],
      "metadata": {
        "id": "i6Zk8T4PT1_Z"
      }
    },
    {
      "cell_type": "markdown",
      "source": [
        "1. Write a Python program that asks the user to enter the radius of a circle and solve its area and perimeter.\n",
        "2. Create a class name Circle allowing you to build a circle with radius and pi attributes.\n",
        "3. Create a method Display() the perimeter and area using an instantiation of a class.\n",
        "4. Create a Perimeter() method to calculate the perimeter of the circle and an Area() method to calculate the area of ​​the circle."
      ],
      "metadata": {
        "id": "eentq9G4T0QL"
      }
    },
    {
      "cell_type": "code",
      "source": [
        "class Circle():\n",
        "  def __init__(self, radius):\n",
        "    self.radius = int (radius)\n",
        "\n",
        "  def Perimeter (self):\n",
        "    return 2 * pi * self.radius\n",
        "\n",
        "  def Area (self):\n",
        "    return pi * (self.radius ** 2)\n",
        "\n",
        "  def display (self):\n",
        "    print (\"The perimeter of the Ring is\", self.Perimeter())\n",
        "    print (\"The area of the Ring is\", self.Area())\n",
        "\n",
        "pi = 3.14\n",
        "ring = Circle (input())\n",
        "ring.display()"
      ],
      "metadata": {
        "colab": {
          "base_uri": "https://localhost:8080/"
        },
        "id": "0GPSm5ViUDTy",
        "outputId": "0fda6de1-f2a6-4844-db94-a4c518967498"
      },
      "execution_count": 6,
      "outputs": [
        {
          "output_type": "stream",
          "name": "stdout",
          "text": [
            "2\n",
            "The perimeter of the Ring is 12.56\n",
            "The area of the Ring is 12.56\n"
          ]
        }
      ]
    }
  ]
}