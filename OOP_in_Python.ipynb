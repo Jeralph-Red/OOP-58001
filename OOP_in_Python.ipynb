{
  "nbformat": 4,
  "nbformat_minor": 0,
  "metadata": {
    "colab": {
      "name": "OOP in Python.ipynb",
      "provenance": [],
      "collapsed_sections": [],
      "authorship_tag": "ABX9TyNB3eYwDQjgLtN9weIdCAQH",
      "include_colab_link": true
    },
    "kernelspec": {
      "name": "python3",
      "display_name": "Python 3"
    },
    "language_info": {
      "name": "python"
    }
  },
  "cells": [
    {
      "cell_type": "markdown",
      "metadata": {
        "id": "view-in-github",
        "colab_type": "text"
      },
      "source": [
        "<a href=\"https://colab.research.google.com/github/Jeralph-Red/OOP-58001/blob/main/OOP_in_Python.ipynb\" target=\"_parent\"><img src=\"https://colab.research.google.com/assets/colab-badge.svg\" alt=\"Open In Colab\"/></a>"
      ]
    },
    {
      "cell_type": "markdown",
      "source": [
        "Create a Class"
      ],
      "metadata": {
        "id": "UNwG9I_VqtHW"
      }
    },
    {
      "cell_type": "code",
      "source": [
        "class MyClass:\n",
        "  pass                #to create a class without method"
      ],
      "metadata": {
        "id": "qTJEnStgqxXP"
      },
      "execution_count": null,
      "outputs": []
    },
    {
      "cell_type": "code",
      "source": [
        "class MyClass:        #the name of the class\n",
        "  x = 40              #property of the class named MyClass\n",
        "\n",
        " "
      ],
      "metadata": {
        "id": "lMD2gIyXrXCB"
      },
      "execution_count": null,
      "outputs": []
    },
    {
      "cell_type": "code",
      "source": [
        "class Car():                          #Create a class named car\n",
        "  def __init__(self,name,color):\n",
        "    self.name = name                  #represents the instance of class named Car\n",
        "    self.color = color                \n",
        "\n",
        "  def description(self):\n",
        "    return self.name, self.color\n",
        "  \n",
        "  def display(self):\n",
        "    print (\"The name and color of the car \", self.description())\n",
        "obj1 = Car(\"Toyota\",\"black\")\n",
        "obj1.display()\n"
      ],
      "metadata": {
        "colab": {
          "base_uri": "https://localhost:8080/"
        },
        "id": "0AxuAFopsh-1",
        "outputId": "fad87dcb-c45d-41f6-a6ce-e36b7d9ac918"
      },
      "execution_count": null,
      "outputs": [
        {
          "output_type": "stream",
          "name": "stdout",
          "text": [
            "The name and color of the car  ('Toyota', 'black')\n"
          ]
        }
      ]
    },
    {
      "cell_type": "markdown",
      "source": [
        "Modify an Object Property"
      ],
      "metadata": {
        "id": "9y8849_PwsXt"
      }
    },
    {
      "cell_type": "code",
      "source": [
        "obj1.name = \"Mitsubishi\"\n",
        "print(obj1.name)"
      ],
      "metadata": {
        "colab": {
          "base_uri": "https://localhost:8080/"
        },
        "id": "4jfhyWvawyYa",
        "outputId": "1bdc3780-ff56-49fc-f717-70848b9da422"
      },
      "execution_count": null,
      "outputs": [
        {
          "output_type": "stream",
          "name": "stdout",
          "text": [
            "Mitsubishi\n"
          ]
        }
      ]
    },
    {
      "cell_type": "code",
      "source": [
        "obj1.display()"
      ],
      "metadata": {
        "colab": {
          "base_uri": "https://localhost:8080/"
        },
        "id": "4rWMNPUyxV6c",
        "outputId": "055f765d-b7b2-4a48-8467-c945ac61c83f"
      },
      "execution_count": null,
      "outputs": [
        {
          "output_type": "stream",
          "name": "stdout",
          "text": [
            "The name and color of the car  ('Mitsubishi', 'black')\n"
          ]
        }
      ]
    },
    {
      "cell_type": "markdown",
      "source": [
        "Delete the Object Property"
      ],
      "metadata": {
        "id": "cA4HqQGdxp0z"
      }
    },
    {
      "cell_type": "code",
      "source": [
        "class Car():                          #Create a class named car\n",
        "  def __init__(self,name,color):\n",
        "    self.name = name                  #represents the instance of class named Car\n",
        "    self.color = color                \n",
        "\n",
        "  def description(self):\n",
        "    return self.name, self.color\n",
        "  \n",
        "  def display(self):\n",
        "    print (\"The name and color of the car \", self.description())\n",
        "obj1 = Car(\"Mitsubishi\",\"black\")\n",
        "obj1.display()\n"
      ],
      "metadata": {
        "colab": {
          "base_uri": "https://localhost:8080/"
        },
        "id": "B5L0u3oM0tBN",
        "outputId": "24f1f4f8-190b-49ed-d30b-68c980367dcc"
      },
      "execution_count": null,
      "outputs": [
        {
          "output_type": "stream",
          "name": "stdout",
          "text": [
            "The name and color of the car  ('Mitsubishi', 'black')\n"
          ]
        }
      ]
    },
    {
      "cell_type": "code",
      "source": [
        "del obj1.color\n",
        "obj1.display()"
      ],
      "metadata": {
        "colab": {
          "base_uri": "https://localhost:8080/",
          "height": 328
        },
        "id": "LPQRYyKmxymo",
        "outputId": "f5ac7b27-65ce-4661-ad23-258b1cbdb229"
      },
      "execution_count": null,
      "outputs": [
        {
          "output_type": "error",
          "ename": "AttributeError",
          "evalue": "ignored",
          "traceback": [
            "\u001b[0;31m---------------------------------------------------------------------------\u001b[0m",
            "\u001b[0;31mAttributeError\u001b[0m                            Traceback (most recent call last)",
            "\u001b[0;32m<ipython-input-19-9189caea74dd>\u001b[0m in \u001b[0;36m<module>\u001b[0;34m()\u001b[0m\n\u001b[1;32m      1\u001b[0m \u001b[0;32mdel\u001b[0m \u001b[0mobj1\u001b[0m\u001b[0;34m.\u001b[0m\u001b[0mcolor\u001b[0m\u001b[0;34m\u001b[0m\u001b[0;34m\u001b[0m\u001b[0m\n\u001b[0;32m----> 2\u001b[0;31m \u001b[0mobj1\u001b[0m\u001b[0;34m.\u001b[0m\u001b[0mdisplay\u001b[0m\u001b[0;34m(\u001b[0m\u001b[0;34m)\u001b[0m\u001b[0;34m\u001b[0m\u001b[0;34m\u001b[0m\u001b[0m\n\u001b[0m",
            "\u001b[0;32m<ipython-input-18-419d90f3171f>\u001b[0m in \u001b[0;36mdisplay\u001b[0;34m(self)\u001b[0m\n\u001b[1;32m      8\u001b[0m \u001b[0;34m\u001b[0m\u001b[0m\n\u001b[1;32m      9\u001b[0m   \u001b[0;32mdef\u001b[0m \u001b[0mdisplay\u001b[0m\u001b[0;34m(\u001b[0m\u001b[0mself\u001b[0m\u001b[0;34m)\u001b[0m\u001b[0;34m:\u001b[0m\u001b[0;34m\u001b[0m\u001b[0;34m\u001b[0m\u001b[0m\n\u001b[0;32m---> 10\u001b[0;31m     \u001b[0mprint\u001b[0m \u001b[0;34m(\u001b[0m\u001b[0;34m\"The name and color of the car \"\u001b[0m\u001b[0;34m,\u001b[0m \u001b[0mself\u001b[0m\u001b[0;34m.\u001b[0m\u001b[0mdescription\u001b[0m\u001b[0;34m(\u001b[0m\u001b[0;34m)\u001b[0m\u001b[0;34m)\u001b[0m\u001b[0;34m\u001b[0m\u001b[0;34m\u001b[0m\u001b[0m\n\u001b[0m\u001b[1;32m     11\u001b[0m \u001b[0mobj1\u001b[0m \u001b[0;34m=\u001b[0m \u001b[0mCar\u001b[0m\u001b[0;34m(\u001b[0m\u001b[0;34m\"Mitsubishi\"\u001b[0m\u001b[0;34m,\u001b[0m\u001b[0;34m\"black\"\u001b[0m\u001b[0;34m)\u001b[0m\u001b[0;34m\u001b[0m\u001b[0;34m\u001b[0m\u001b[0m\n\u001b[1;32m     12\u001b[0m \u001b[0mobj1\u001b[0m\u001b[0;34m.\u001b[0m\u001b[0mdisplay\u001b[0m\u001b[0;34m(\u001b[0m\u001b[0;34m)\u001b[0m\u001b[0;34m\u001b[0m\u001b[0;34m\u001b[0m\u001b[0m\n",
            "\u001b[0;32m<ipython-input-18-419d90f3171f>\u001b[0m in \u001b[0;36mdescription\u001b[0;34m(self)\u001b[0m\n\u001b[1;32m      5\u001b[0m \u001b[0;34m\u001b[0m\u001b[0m\n\u001b[1;32m      6\u001b[0m   \u001b[0;32mdef\u001b[0m \u001b[0mdescription\u001b[0m\u001b[0;34m(\u001b[0m\u001b[0mself\u001b[0m\u001b[0;34m)\u001b[0m\u001b[0;34m:\u001b[0m\u001b[0;34m\u001b[0m\u001b[0;34m\u001b[0m\u001b[0m\n\u001b[0;32m----> 7\u001b[0;31m     \u001b[0;32mreturn\u001b[0m \u001b[0mself\u001b[0m\u001b[0;34m.\u001b[0m\u001b[0mname\u001b[0m\u001b[0;34m,\u001b[0m \u001b[0mself\u001b[0m\u001b[0;34m.\u001b[0m\u001b[0mcolor\u001b[0m\u001b[0;34m\u001b[0m\u001b[0;34m\u001b[0m\u001b[0m\n\u001b[0m\u001b[1;32m      8\u001b[0m \u001b[0;34m\u001b[0m\u001b[0m\n\u001b[1;32m      9\u001b[0m   \u001b[0;32mdef\u001b[0m \u001b[0mdisplay\u001b[0m\u001b[0;34m(\u001b[0m\u001b[0mself\u001b[0m\u001b[0;34m)\u001b[0m\u001b[0;34m:\u001b[0m\u001b[0;34m\u001b[0m\u001b[0;34m\u001b[0m\u001b[0m\n",
            "\u001b[0;31mAttributeError\u001b[0m: 'Car' object has no attribute 'color'"
          ]
        }
      ]
    },
    {
      "cell_type": "code",
      "source": [
        "del obj1\n",
        "obj1.display()"
      ],
      "metadata": {
        "colab": {
          "base_uri": "https://localhost:8080/",
          "height": 183
        },
        "id": "kbdSwst91Q1G",
        "outputId": "8921a4ff-6530-4a9f-ab18-ec0a514cf81d"
      },
      "execution_count": null,
      "outputs": [
        {
          "output_type": "error",
          "ename": "NameError",
          "evalue": "ignored",
          "traceback": [
            "\u001b[0;31m---------------------------------------------------------------------------\u001b[0m",
            "\u001b[0;31mNameError\u001b[0m                                 Traceback (most recent call last)",
            "\u001b[0;32m<ipython-input-21-91368394876f>\u001b[0m in \u001b[0;36m<module>\u001b[0;34m()\u001b[0m\n\u001b[1;32m      1\u001b[0m \u001b[0;32mdel\u001b[0m \u001b[0mobj1\u001b[0m\u001b[0;34m\u001b[0m\u001b[0;34m\u001b[0m\u001b[0m\n\u001b[0;32m----> 2\u001b[0;31m \u001b[0mobj1\u001b[0m\u001b[0;34m.\u001b[0m\u001b[0mdisplay\u001b[0m\u001b[0;34m(\u001b[0m\u001b[0;34m)\u001b[0m\u001b[0;34m\u001b[0m\u001b[0;34m\u001b[0m\u001b[0m\n\u001b[0m",
            "\u001b[0;31mNameError\u001b[0m: name 'obj1' is not defined"
          ]
        }
      ]
    },
    {
      "cell_type": "code",
      "source": [
        "obj2 = Car(\"BMW\",\"red\")\n",
        "obj2.display()"
      ],
      "metadata": {
        "colab": {
          "base_uri": "https://localhost:8080/"
        },
        "id": "vG3_F_tf0Agm",
        "outputId": "c3511078-481e-4f1b-bb22-a52e8df88f0f"
      },
      "execution_count": null,
      "outputs": [
        {
          "output_type": "stream",
          "name": "stdout",
          "text": [
            "The name and color of the car  ('BMW', 'red')\n"
          ]
        }
      ]
    },
    {
      "cell_type": "markdown",
      "source": [
        "Application 1 - Write a python program to compute the area and perimeter of a rectangle. Use Rectangle as class name and length and wiidth as attributes"
      ],
      "metadata": {
        "id": "u0VCKmwW1s_N"
      }
    },
    {
      "cell_type": "code",
      "source": [
        "class Rectangle():                          #Create a class named Rectangle\n",
        "  def __init__(self,length,width):\n",
        "    self.length = length                  #represents the instance of class named Rectangle\n",
        "    self.width = width                \n",
        "\n",
        "  def Area(self):\n",
        "    return self.length*self.width\n",
        "  \n",
        "  def Perimeter(self):\n",
        "    return 2*(self.length+self.width)\n",
        "  \n",
        "  def display(self):\n",
        "    print (\"The area of rectangle is  \", self.Area())\n",
        "    print (\"The perimeter of rectangle is \", self.Perimeter())\n",
        "\n",
        "pol = Rectangle(7,4.5)\n",
        "pol.display()\n"
      ],
      "metadata": {
        "colab": {
          "base_uri": "https://localhost:8080/"
        },
        "id": "SRmcacTu2RwC",
        "outputId": "545ed322-6e9f-4199-bce2-f95fcd00b535"
      },
      "execution_count": null,
      "outputs": [
        {
          "output_type": "stream",
          "name": "stdout",
          "text": [
            "The area of rectangle is   31.5\n",
            "The perimeter of rectangle is  23.0\n"
          ]
        }
      ]
    },
    {
      "cell_type": "markdown",
      "source": [
        "Application 2 - Write a python program to display a class name OOP_58001 with student no. and fullname (Surname, Firstname) as attributes"
      ],
      "metadata": {
        "id": "ePEGmoPm41pf"
      }
    },
    {
      "cell_type": "code",
      "source": [
        "class Person:\n",
        " def __init__(self,student,number):\n",
        "  self.student = student\n",
        "  self.number = number\n",
        "\n",
        " def myFunction(self):\n",
        "  print(\"I am\",self.student,\"and my student number is\",self.number,\".\")\n",
        "  print(\"Section-OOP_58001\")\n",
        "\n",
        "\n",
        "p1= Person(\"Red, Jeralph O.\", 202116038)\n",
        "p1.myFunction()"
      ],
      "metadata": {
        "id": "RJpnoqOq5IBQ",
        "colab": {
          "base_uri": "https://localhost:8080/"
        },
        "outputId": "bde95e62-3ae5-494d-fa2d-6fd325038ade"
      },
      "execution_count": 5,
      "outputs": [
        {
          "output_type": "stream",
          "name": "stdout",
          "text": [
            "I am Red, Jeralph O. and my student number is 202116038 .\n",
            "Section-OOP_58001\n"
          ]
        }
      ]
    }
  ]
}