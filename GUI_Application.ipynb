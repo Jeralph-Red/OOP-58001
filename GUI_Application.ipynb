{
  "nbformat": 4,
  "nbformat_minor": 0,
  "metadata": {
    "colab": {
      "name": "GUI Application.ipynb",
      "provenance": [],
      "authorship_tag": "ABX9TyNYW1ZUVNwsXqDNBL+D8j/Z",
      "include_colab_link": true
    },
    "kernelspec": {
      "name": "python3",
      "display_name": "Python 3"
    },
    "language_info": {
      "name": "python"
    }
  },
  "cells": [
    {
      "cell_type": "markdown",
      "metadata": {
        "id": "view-in-github",
        "colab_type": "text"
      },
      "source": [
        "<a href=\"https://colab.research.google.com/github/Jeralph-Red/OOP-58001/blob/main/GUI_Application.ipynb\" target=\"_parent\"><img src=\"https://colab.research.google.com/assets/colab-badge.svg\" alt=\"Open In Colab\"/></a>"
      ]
    },
    {
      "cell_type": "markdown",
      "source": [
        "Create a Python Program that displays the grades of the students"
      ],
      "metadata": {
        "id": "6TVLRgOJ_i2Z"
      }
    },
    {
      "cell_type": "code",
      "execution_count": 13,
      "metadata": {
        "colab": {
          "base_uri": "https://localhost:8080/"
        },
        "id": "q8SPCuLt-Ucx",
        "outputId": "32c5622d-e689-45ac-8574-9534bb5c56ed"
      },
      "outputs": [
        {
          "output_type": "stream",
          "name": "stdout",
          "text": [
            "Student's Name: Jeralph Red\n",
            "Semestral grade of the student: 95.80000000000001%\n"
          ]
        }
      ],
      "source": [
        "#@title Student's Grade in Object-oriented Programming\n",
        "Student_Name = \"Jeralph Red\" #@param {type: \"string\"}\n",
        "prelim = 92 #@param {type: \"number\"}\n",
        "midterm =  98#@param {type: \"number\"}\n",
        "final =  97#@param {type: \"number\"}\n",
        "semestral = (prelim*0.30+midterm*0.30+final*0.40)\n",
        "\n",
        "print(\"Student's Name: \" + Student_Name)\n",
        "print(\"Semestral grade of the student: \" + str(semestral) + \"%\")"
      ]
    },
    {
      "cell_type": "code",
      "source": [
        "#@title Gender\n",
        "\n",
        "Gender = \"Male\" #@param [\"Male\",\"Female\"]\n",
        "Birthdate = \"2001-09-18\" #@param {type: \"date\"}\n",
        "\n",
        "print(\"My Birthday is: \" + Birthdate)\n",
        "print(\"My gender is: \" + Gender)"
      ],
      "metadata": {
        "colab": {
          "base_uri": "https://localhost:8080/"
        },
        "id": "nnr5S5QWD17s",
        "outputId": "0d14ea3c-34fb-4c7e-93a4-73a360fe4b8a"
      },
      "execution_count": 12,
      "outputs": [
        {
          "output_type": "stream",
          "name": "stdout",
          "text": [
            "My Birthday is: 2001-09-18\n",
            "My gender is: Male\n"
          ]
        }
      ]
    }
  ]
}