{
  "nbformat": 4,
  "nbformat_minor": 0,
  "metadata": {
    "colab": {
      "name": "OOP Concepts_2",
      "provenance": [],
      "collapsed_sections": [],
      "authorship_tag": "ABX9TyO9o9LSuGeCmr6pVB3mcTx6",
      "include_colab_link": true
    },
    "kernelspec": {
      "name": "python3",
      "display_name": "Python 3"
    },
    "language_info": {
      "name": "python"
    }
  },
  "cells": [
    {
      "cell_type": "markdown",
      "metadata": {
        "id": "view-in-github",
        "colab_type": "text"
      },
      "source": [
        "<a href=\"https://colab.research.google.com/github/Jeralph-Red/OOP-58001/blob/main/OOP_Concepts_2.ipynb\" target=\"_parent\"><img src=\"https://colab.research.google.com/assets/colab-badge.svg\" alt=\"Open In Colab\"/></a>"
      ]
    },
    {
      "cell_type": "markdown",
      "source": [
        "**Classes with Multiple Objects**"
      ],
      "metadata": {
        "id": "6PW0lIL-t-98"
      }
    },
    {
      "cell_type": "code",
      "source": [
        "class Birds:\n",
        "  def __init__(self, bird_name):\n",
        "    self.bird_name = bird_name\n",
        "  def flying_birds(self):\n",
        "    print(f\"{self.bird_name} flies above clouds.\")\n",
        "  def non_flying_birds(self):\n",
        "    print(f\"{self.bird_name} is the national bird of the Philippines.\")\n",
        "  \n",
        "vulture = Birds(\"Griffon Vulturte\")\n",
        "crane = Birds(\"Common Crane\")\n",
        "emu = Birds(\"Emu\")\n",
        "\n",
        "vulture.flying_birds()\n",
        "crane.flying_birds()\n",
        "emu.non_flying_birds()"
      ],
      "metadata": {
        "colab": {
          "base_uri": "https://localhost:8080/"
        },
        "id": "UcR6Gr96v38d",
        "outputId": "c56333cb-2266-46be-997f-d2201329722f"
      },
      "execution_count": null,
      "outputs": [
        {
          "output_type": "stream",
          "name": "stdout",
          "text": [
            "Griffon Vulturte flies above clouds.\n",
            "Common Crane flies above clouds.\n",
            "Emu is the national bird of the Philippines.\n"
          ]
        }
      ]
    },
    {
      "cell_type": "markdown",
      "source": [
        "**Encapsulation with Private Attribures**"
      ],
      "metadata": {
        "id": "tMYEREPHyVUM"
      }
    },
    {
      "cell_type": "code",
      "source": [
        "class foo:\n",
        "  def __init__(self, a, b):\n",
        "    self._a = a\n",
        "    self._b = b\n",
        "  def add(self):\n",
        "    return self._a + self._b\n",
        "foo_object = foo(3,4)\n",
        "foo_object.add()\n",
        "\n",
        "foo_object.a = 6\n",
        "foo_object.add()\n"
      ],
      "metadata": {
        "colab": {
          "base_uri": "https://localhost:8080/"
        },
        "id": "pFI9ftS0zhlQ",
        "outputId": "d7450cf4-f7fb-4a27-a9d7-f29062ae9ae2"
      },
      "execution_count": null,
      "outputs": [
        {
          "output_type": "execute_result",
          "data": {
            "text/plain": [
              "7"
            ]
          },
          "metadata": {},
          "execution_count": 12
        }
      ]
    },
    {
      "cell_type": "markdown",
      "source": [
        "**Encapsulation by Mangling with Double Underscore**"
      ],
      "metadata": {
        "id": "Be0Pmmt_68CY"
      }
    },
    {
      "cell_type": "code",
      "source": [
        "class Counter:\n",
        "  def __init__(self):\n",
        "    self.current = 0 \n",
        "\n",
        "  def increment(self):\n",
        "    self.current += 1 #current = current+1\n",
        "  \n",
        "  def value(self):\n",
        "    return self.current\n",
        "  \n",
        "  def reset(self):\n",
        "    self.current = 0 \n",
        "  \n",
        "counter = Counter()\n",
        "\n",
        "counter.increment()\n",
        "counter.increment()\n",
        "counter.increment()\n",
        "\n",
        "print(counter.value())\n",
        "\n"
      ],
      "metadata": {
        "colab": {
          "base_uri": "https://localhost:8080/"
        },
        "id": "SEW47Y5R4OKH",
        "outputId": "6f58cb33-9f77-49ad-d456-c1b231d4f09d"
      },
      "execution_count": 1,
      "outputs": [
        {
          "output_type": "stream",
          "name": "stdout",
          "text": [
            "3\n"
          ]
        }
      ]
    },
    {
      "cell_type": "code",
      "source": [
        "class Counter:\n",
        "  def __init__(self):\n",
        "    self.__current = 0\n",
        "\n",
        "  def increment(self):\n",
        "    self.__current += 1 #current = currrent+1\n",
        "\n",
        "  def value(self):\n",
        "    return self.__current\n",
        "\n",
        "  def reset (self):\n",
        "    self.current = 0\n",
        "  \n",
        "counter = Counter()\n",
        "\n",
        "counter.increment()\n",
        "counter.increment()\n",
        "counter.increment()\n",
        "\n",
        "print(counter.reset())"
      ],
      "metadata": {
        "colab": {
          "base_uri": "https://localhost:8080/"
        },
        "id": "AWiDJokyR3Vl",
        "outputId": "a485bada-eeb7-4ae2-dadd-5006cc200550"
      },
      "execution_count": 2,
      "outputs": [
        {
          "output_type": "stream",
          "name": "stdout",
          "text": [
            "None\n"
          ]
        }
      ]
    },
    {
      "cell_type": "markdown",
      "source": [
        "**Inheritance**"
      ],
      "metadata": {
        "id": "CigHu2CS7LWs"
      }
    },
    {
      "cell_type": "code",
      "source": [
        "class Person:\n",
        "  def __init__(self, fname, sname):\n",
        "    self.fname = fname\n",
        "    self.sname = sname\n",
        "  def printname(self):\n",
        "    print(self.fname,self.sname)\n",
        "\n",
        "x = Person(\"Jeralph\",\"Red\")\n",
        "x.printname()\n",
        "\n",
        "class Teacher(Person):\n",
        "  pass\n",
        "\n",
        "x = Teacher(\"Rizette\",\"Sayo\")\n",
        "x.printname()"
      ],
      "metadata": {
        "colab": {
          "base_uri": "https://localhost:8080/"
        },
        "id": "0mUI06Ff7OKe",
        "outputId": "dd1187ed-bce6-4832-8ccd-b99a4fd360c0"
      },
      "execution_count": null,
      "outputs": [
        {
          "output_type": "stream",
          "name": "stdout",
          "text": [
            "Jeralph Red\n",
            "Rizette Sayo\n"
          ]
        }
      ]
    },
    {
      "cell_type": "markdown",
      "source": [
        "**Polymorphism**"
      ],
      "metadata": {
        "id": "FxeEpHb3-ZJt"
      }
    },
    {
      "cell_type": "code",
      "source": [
        "class RegularPolygon:\n",
        "    def __init__(self, side):\n",
        "        self._side = side\n",
        "class Square(RegularPolygon):\n",
        "    def area(self):\n",
        "        return self._side * self._side\n",
        "class EquilateralTriangle(RegularPolygon):\n",
        "    def area(self):\n",
        "        return self._side * self._side * 0.433\n",
        "\n",
        "obj1 = Square(4)\n",
        "obj2 = EquilateralTriangle(3)\n",
        "\n",
        "print(obj1.area())\n",
        "print(obj2.area())"
      ],
      "metadata": {
        "colab": {
          "base_uri": "https://localhost:8080/"
        },
        "id": "VfOIb7UO-cGG",
        "outputId": "70976219-7a62-4708-db35-4fe3009ce78d"
      },
      "execution_count": null,
      "outputs": [
        {
          "output_type": "stream",
          "name": "stdout",
          "text": [
            "16\n",
            "3.897\n"
          ]
        }
      ]
    },
    {
      "cell_type": "markdown",
      "source": [
        "** Application 1 - 30% prelim, 30% midterm, 40% finals = Semestral Grade**"
      ],
      "metadata": {
        "id": "sBQyt7F4FfNJ"
      }
    },
    {
      "cell_type": "markdown",
      "source": [
        "1. Create a Python program that displays the name of three students (Studen 1, Student 2 and Student 3) and their term grades\n",
        "2. Create a class name Person and attribute - std1, std2, std3, pre, mid, fin\n",
        "3. Compute the average of each term gradde using Grade() method\n",
        "4. Information about studnet's grade must be hidden from others"
      ],
      "metadata": {
        "id": "7RIs4PLSFx7g"
      }
    },
    {
      "cell_type": "code",
      "source": [
        "import random\n",
        "class Person:\n",
        "  def __init__(self, name, pre, mid, fin):\n",
        "    self._name = name\n",
        "    self._pre = pre* 0.30\n",
        "    self._mid = mid* 0.30\n",
        "    self._fin = fin* 0.40\n",
        "    \n",
        "  def Grades(self):\n",
        "     return print(self._name, \"has a Semestral Grade of\", self._pre + self._mid + self._fin ,\"%\")\n",
        "\n",
        "\n",
        "std1 = Person(\"Student 1: Luke Ruego\" , random.randint(75,99) , random.randint(75,99) , random.randint(75,99)) \n",
        "std2 = Person(\"Student 2: Ian Metante\" , random.randint(75,99) , random.randint(75,99) , random.randint(75,99))\n",
        "std3 = Person(\"Student 3: Alfred Ocampo\" , random.randint(75,99) , random.randint(75,99) , random.randint(75,99))\n",
        "\n",
        "x = input(str(\"Which student's grades you wish to view:\\nType 1, 2, or 3\\n\"))\n",
        "\n",
        "\n",
        "if x == \"1\":\n",
        "  std1.Grades()\n",
        "else:\n",
        "  if x == \"2\":\n",
        "    std2.Grades()\n",
        "  else:\n",
        "    if x == \"3\":\n",
        "      std3.Grades()\n",
        "    else:\n",
        "      print(\"Invalid Student\")"
      ],
      "metadata": {
        "id": "602FqKx2GTpz",
        "colab": {
          "base_uri": "https://localhost:8080/"
        },
        "outputId": "ca75b624-80f2-428b-9d3f-9b4c5d679238"
      },
      "execution_count": 18,
      "outputs": [
        {
          "output_type": "stream",
          "name": "stdout",
          "text": [
            "Which student's grades you wish to view:\n",
            "Type 1, 2, or 3\n",
            "1\n",
            "Student 1: Luke Ruego has a Semestral Grade of 91.80000000000001 %\n"
          ]
        }
      ]
    }
  ]
}