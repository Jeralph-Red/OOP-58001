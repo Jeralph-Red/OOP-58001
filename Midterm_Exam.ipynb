{
  "nbformat": 4,
  "nbformat_minor": 0,
  "metadata": {
    "colab": {
      "name": "Midterm Exam",
      "provenance": [],
      "authorship_tag": "ABX9TyMC6XRg0fcdvDKgALm4YQ2X",
      "include_colab_link": true
    },
    "kernelspec": {
      "name": "python3",
      "display_name": "Python 3"
    },
    "language_info": {
      "name": "python"
    }
  },
  "cells": [
    {
      "cell_type": "markdown",
      "metadata": {
        "id": "view-in-github",
        "colab_type": "text"
      },
      "source": [
        "<a href=\"https://colab.research.google.com/github/Jeralph-Red/OOP-58001/blob/main/Midterm_Exam.ipynb\" target=\"_parent\"><img src=\"https://colab.research.google.com/assets/colab-badge.svg\" alt=\"Open In Colab\"/></a>"
      ]
    },
    {
      "cell_type": "markdown",
      "source": [
        "**Program 1**"
      ],
      "metadata": {
        "id": "7tTEE6micMKL"
      }
    },
    {
      "cell_type": "code",
      "execution_count": 11,
      "metadata": {
        "colab": {
          "base_uri": "https://localhost:8080/"
        },
        "id": "I8YY0gTQYgvh",
        "outputId": "be404c04-552a-42cd-dff5-3eb26fdd981f"
      },
      "outputs": [
        {
          "output_type": "stream",
          "name": "stdout",
          "text": [
            "Enter the temperature in Celsius: 1\n",
            "274.15 Kelvin\n",
            "33.8 Fahrenheit\n",
            "Enter the temperature in Farenheit: 1\n",
            "-17.22222222222222 Celsius\n",
            "Enter the temperature in Kelvin: 1\n",
            "-272.15 Celsius\n"
          ]
        }
      ],
      "source": [
        "def main():\n",
        "\n",
        " class TemperatureConversion:\n",
        "  def __init__(self, temp=1):\n",
        "   self._temp = temp\n",
        "\n",
        " class CelsiusToFahrenheit(TemperatureConversion):\n",
        "  def conversion(self):\n",
        "   return (self._temp * 9) / 5 + 32\n",
        "\n",
        " class CelsiusToKelvin(TemperatureConversion):\n",
        "  def conversion(self):\n",
        "   return self._temp + 273.15\n",
        "\n",
        " class FahrenheitToCelsius(TemperatureConversion):\n",
        "  def conversion(self):\n",
        "   return (self._temp - 32) * 5 / 9\n",
        "\n",
        " class KelvinToCelsius(TemperatureConversion):\n",
        "  def conversion(self):\n",
        "   return (self._temp - 273.15) \n",
        "\n",
        " tempInCelsius = float(input( \"Enter the temperature in Celsius: \" ))\n",
        " convert = CelsiusToKelvin(tempInCelsius)\n",
        " print(str(convert.conversion()) + \" Kelvin\")\n",
        "\n",
        " convert = CelsiusToFahrenheit(tempInCelsius)\n",
        " print(str(convert.conversion()) + \" Fahrenheit\")\n",
        "\n",
        " tempInCelsius = float(input( \"Enter the temperature in Farenheit: \" ))\n",
        " convert = FahrenheitToCelsius(tempInCelsius)\n",
        " print(str(convert.conversion()) + \" Celsius\")\n",
        "\n",
        " tempInCelsius = float(input( \"Enter the temperature in Kelvin: \" ))\n",
        " convert = KelvinToCelsius(tempInCelsius)\n",
        " print(str(convert.conversion()) + \" Celsius\" )\n",
        "\n",
        "main()"
      ]
    }
  ]
}