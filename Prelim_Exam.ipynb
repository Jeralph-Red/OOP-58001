{
  "nbformat": 4,
  "nbformat_minor": 0,
  "metadata": {
    "colab": {
      "name": "Prelim Exam",
      "provenance": [],
      "authorship_tag": "ABX9TyNr1UCQwGecvsFsJmzIZmw1",
      "include_colab_link": true
    },
    "kernelspec": {
      "name": "python3",
      "display_name": "Python 3"
    },
    "language_info": {
      "name": "python"
    }
  },
  "cells": [
    {
      "cell_type": "markdown",
      "metadata": {
        "id": "view-in-github",
        "colab_type": "text"
      },
      "source": [
        "<a href=\"https://colab.research.google.com/github/Jeralph-Red/OOP-58001/blob/main/Prelim_Exam.ipynb\" target=\"_parent\"><img src=\"https://colab.research.google.com/assets/colab-badge.svg\" alt=\"Open In Colab\"/></a>"
      ]
    },
    {
      "cell_type": "markdown",
      "source": [
        "#Prelim Exam OOP"
      ],
      "metadata": {
        "id": "En79B9fdFM_d"
      }
    },
    {
      "cell_type": "markdown",
      "source": [
        "1. Write a Python to display your full name, student number, age, and course\n",
        "2. Create a class named Student with attributes: Name, Student_No, Age, School, and Course\n",
        "3. Create an object name Myself and assign an instance for each attribute.\n",
        "4. Create a method Self () using an instantiation of a class.\n",
        "5. Insert your GitHub link \"Prelim Exam\" from your repository named \"OOP 58001\" "
      ],
      "metadata": {
        "id": "QD-IJzaBGP5b"
      }
    },
    {
      "cell_type": "code",
      "source": [
        "class Student:\n",
        "\n",
        "  def __init__(self,name,studentno,age,school,course):\n",
        "\n",
        "    self.name = name\n",
        "    self.studentno = studentno\n",
        "    self.age = age\n",
        "    self.school = school\n",
        "    self.course = course\n",
        "\n",
        "  def self(self):\n",
        "\n",
        "    print(\"Name: \",self.name)\n",
        "    print(\"Student number: \",self.studentno)\n",
        "    print(\"age: \",self.age)\n",
        "    print(\"School: \",self.school)\n",
        "    print(\"Course: \",self.course)\n",
        "\n",
        "\n",
        "Myself = Student(\"Red, Jeralph O.\", 202116038, 20, \"Adamson University\", \"BS in Computer Engineering\")\n",
        "Myself.self()"
      ],
      "metadata": {
        "colab": {
          "base_uri": "https://localhost:8080/"
        },
        "id": "e0L8q8GyGh8Z",
        "outputId": "90f26956-84e6-4d22-faf6-057829d4a587"
      },
      "execution_count": 14,
      "outputs": [
        {
          "output_type": "stream",
          "name": "stdout",
          "text": [
            "Name:  Red, Jeralph O.\n",
            "Student number:  202116038\n",
            "age:  20\n",
            "School:  Adamson University\n",
            "Course:  BS in Computer Engineering\n"
          ]
        }
      ]
    }
  ]
}